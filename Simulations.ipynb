{
 "cells": [
  {
   "cell_type": "markdown",
   "metadata": {},
   "source": [
    "# Wave Simulations"
   ]
  },
  {
   "cell_type": "markdown",
   "metadata": {},
   "source": [
    "## Imports"
   ]
  },
  {
   "cell_type": "code",
   "execution_count": 1,
   "metadata": {},
   "outputs": [],
   "source": [
    "import matplotlib.pyplot as plt\n",
    "import numpy as np\n",
    "import time\n",
    "%matplotlib qt\n",
    "\n",
    "\n",
    "# Simulation Decorator\n",
    "def update(framerate: int = 60, length: int = 5):\n",
    "    def decorator(func):\n",
    "        def wrapper(frame):\n",
    "            start = time.time()\n",
    "            frame = 0\n",
    "            while (time.time() - start < length):\n",
    "                plt.clf()\n",
    "                frame += 1\n",
    "                func(frame)\n",
    "                plt.show()\n",
    "                plt.pause(1 / framerate)\n",
    "            return func\n",
    "        return wrapper\n",
    "    return decorator"
   ]
  },
  {
   "cell_type": "markdown",
   "metadata": {},
   "source": [
    "## 3D Waves"
   ]
  },
  {
   "cell_type": "code",
   "execution_count": null,
   "metadata": {},
   "outputs": [],
   "source": [
    "import matplotlib.pyplot as plt\n",
    "import numpy as np\n",
    "from mpl_toolkits.mplot3d import Axes3D\n",
    "\n",
    "%matplotlib qt\n",
    "\n",
    "# Variables\n",
    "fig = plt.figure()\n",
    "timestamp: int = 0\n",
    "framerate: int = 60\n",
    "discretization: int = 150\n",
    "\n",
    "# Main\n",
    "while True:\n",
    "    plt.clf()\n",
    "    timestamp += 1\n",
    "    \n",
    "    ax = fig.add_subplot(projection = '3d')\n",
    "    ax.set_zlim(-5,5)\n",
    "    xSet = np.linspace(-20,20,discretization)\n",
    "    ySet = np.linspace(-20,20,discretization)\n",
    "    xSet, ySet = np.meshgrid(xSet, ySet)\n",
    "    zValues = np.sin( np.sqrt( xSet**2 + ySet**2 + timestamp**1.5 ))\n",
    "    ax.plot_surface(xSet,ySet,zValues, cmap='viridis')\n",
    "    \n",
    "    # render himage\n",
    "    plt.show()\n",
    "    plt.pause(1 / framerate)\n",
    "    \n",
    "    # abort after 1000 frames\n",
    "    if timestamp == 1000:\n",
    "        break\n"
   ]
  },
  {
   "cell_type": "markdown",
   "metadata": {},
   "source": [
    "## Gerstner Wave Simulation"
   ]
  },
  {
   "cell_type": "code",
   "execution_count": 4,
   "metadata": {},
   "outputs": [
    {
     "data": {
      "text/plain": [
       "<function __main__.simulate(t)>"
      ]
     },
     "execution_count": 4,
     "metadata": {},
     "output_type": "execute_result"
    }
   ],
   "source": [
    "from numpy import sin, cos, sqrt, \\\n",
    "    e as exp, pi as π\n",
    "\n",
    "\n",
    "# Initial Setup\n",
    "framerate: int = 60\n",
    "length: int = 10\n",
    "scale: int = 3\n",
    "a = np.linspace(-1, scale * 10, scale * 1000)\n",
    "\n",
    "\n",
    "# Parameters\n",
    "wavelength: float = 5\n",
    "waveheight: float = 1.1\n",
    "g: float = 9.81\n",
    "\n",
    "# Computed Parameters\n",
    "k: float = (2 * π) / wavelength\n",
    "b: float = np.log(waveheight / 2 * k) / k\n",
    "c: float = sqrt(g / k)\n",
    "\n",
    "\n",
    "# Simulation\n",
    "@update(framerate=framerate, length=length)\n",
    "def simulate(t):\n",
    "    t = t * 0.03\n",
    "    \n",
    "    # Gerstner Wave\n",
    "    plt.plot(a + ((exp ** (k*b))/k) * sin(k*(a + c*t)), b - ((exp ** (k*b))/k) * cos(k*(a + c*t)), linewidth=2.5)\n",
    "        \n",
    "    # Set the limits of the x and y axes\n",
    "    plt.xlim([0, scale * 5])\n",
    "    plt.ylim([-scale * 1.5, scale * 2])\n",
    "    \n",
    "    # Plot Setup\n",
    "    plt.title('Gerstner Wave')\n",
    "    plt.axvline(x=0, color='k', alpha=0.3); plt.axhline(y=0, color='k', alpha=0.3)\n",
    "    plt.annotate(0, (0, 0), (0.1, 0.03), alpha=0.3)\n",
    "\n",
    "\n",
    "# Run Simulation\n",
    "simulate(0)"
   ]
  }
 ],
 "metadata": {
  "kernelspec": {
   "display_name": "venv",
   "language": "python",
   "name": "python3"
  },
  "language_info": {
   "codemirror_mode": {
    "name": "ipython",
    "version": 3
   },
   "file_extension": ".py",
   "mimetype": "text/x-python",
   "name": "python",
   "nbconvert_exporter": "python",
   "pygments_lexer": "ipython3",
   "version": "3.11.7"
  }
 },
 "nbformat": 4,
 "nbformat_minor": 2
}
