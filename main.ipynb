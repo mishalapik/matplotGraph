{
 "cells": [
  {
   "cell_type": "code",
   "execution_count": null,
   "metadata": {},
   "outputs": [],
   "source": [
    "\n",
    "import matplotlib.pyplot as plt\n",
    "import numpy as np\n",
    "from mpl_toolkits.mplot3d import Axes3D\n",
    "%matplotlib qt\n",
    "\n",
    "\n",
    "fig = plt.figure()\n",
    "timestamp: int = 0\n",
    "framerate: int = 60\n",
    "discretization: int = 150\n",
    "\n",
    "\n",
    "\n",
    "while True:\n",
    "    plt.clf()\n",
    "    timestamp += 1\n",
    "    \n",
    "    ax = fig.add_subplot(projection = '3d')\n",
    "    ax.set_zlim(-5,5)\n",
    "    xSet = np.linspace(-20,20,discretization)\n",
    "    ySet = np.linspace(-20,20,discretization)\n",
    "    xSet, ySet = np.meshgrid(xSet, ySet)\n",
    "    zValues = np.sin( np.sqrt( xSet**2 + ySet**2 + timestamp**1.5 ))\n",
    "    ax.plot_surface(xSet,ySet,zValues, cmap='viridis')\n",
    "    \n",
    "    # render himage\n",
    "    plt.show()\n",
    "    plt.pause(1 / framerate)\n",
    "    \n",
    "    # abort after 1000 frames\n",
    "    if timestamp == 1000:\n",
    "        break\n",
    "\n",
    "\n",
    "\n",
    "\n",
    "\n",
    "# plt.show()\n",
    "\n",
    "# fig = plt.figure()\n",
    "# ax = fig.add_subplot(111, projection='3d')\n",
    "\n",
    "# # Generate data\n",
    "# x = np.linspace(-5, 5, 100)\n",
    "# y = np.linspace(-5, 5, 100)\n",
    "# print(x,y)\n",
    "# x, y = np.meshgrid(x, y)\n",
    "# z = np.sin(np.sqrt(x**2 + y**2))\n",
    "\n",
    "# # Plot the 3D surface\n",
    "# ax.plot_surface(x, y, z, cmap='viridis')"
   ]
  }
 ],
 "metadata": {
  "kernelspec": {
   "display_name": "venv",
   "language": "python",
   "name": "python3"
  },
  "language_info": {
   "codemirror_mode": {
    "name": "ipython",
    "version": 3
   },
   "file_extension": ".py",
   "mimetype": "text/x-python",
   "name": "python",
   "nbconvert_exporter": "python",
   "pygments_lexer": "ipython3",
   "version": "3.12.2"
  }
 },
 "nbformat": 4,
 "nbformat_minor": 2
}
